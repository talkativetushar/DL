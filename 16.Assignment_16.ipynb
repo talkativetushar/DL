{
 "cells": [
  {
   "cell_type": "markdown",
   "id": "dc6bd03c",
   "metadata": {},
   "source": [
    "# Assignment 16 Solutions"
   ]
  },
  {
   "cell_type": "markdown",
   "id": "4a248256",
   "metadata": {},
   "source": [
    "#### 1. Explain the Activation Functions in your own language\n",
    "- a) sigmoid\n",
    "- b) tanh\n",
    "- c) ReLU\n",
    "- d) ELU\n",
    "- e) LeakyReLU\n",
    "- f) swish"
   ]
  },
  {
   "cell_type": "markdown",
   "id": "8f5d8fd5",
   "metadata": {},
   "source": [
    "Sigmoid(x) = 1/1+e^-x\n",
    "\n",
    "➡️If big x sigmoid near to 1 else 0\n",
    "\n",
    "➡️Advantage:-\n",
    "\n",
    "➡️Range between 0 and 1 so we can use in output layer as probability\n",
    "\n",
    "➡️Non linear function\n",
    "\n",
    "➡️Diffrentiable\n",
    "\n",
    "➡️Disadvantages:-\n",
    "\n",
    "➡️Saturated Function because of range and its become vanishing gradient problem.\n",
    "\n",
    "➡️Non zero centered but its done by batch normalization but training get slow.\n",
    "\n",
    "➡️Computationally Expensive because of exponent"
   ]
  },
  {
   "cell_type": "markdown",
   "id": "47146573",
   "metadata": {},
   "source": [
    "TanH\n",
    "\n",
    "➡️Range -1 to 1\n",
    "\n",
    "➡️Formula:- (e^x -e^-x)/(e^x+e^-x)\n",
    "\n",
    "➡️Advantages:-\n",
    "\n",
    "➡️Non linear\n",
    "\n",
    "➡️Diffrentiable\n",
    "\n",
    "➡️Zero centered\n",
    "\n",
    "➡️Disadvantages:-\n",
    "\n",
    "➡️Saturating Function\n",
    "\n",
    "➡️Computationally Expensive"
   ]
  },
  {
   "cell_type": "markdown",
   "id": "4a7732c3",
   "metadata": {},
   "source": [
    "RELU\n",
    "\n",
    "➡️Range -1 to 1\n",
    "\n",
    "➡️Formula:- (e^x -e^-x)/(e^x+e^-x)\n",
    "\n",
    "➡️Advantages:-\n",
    "\n",
    "➡️Non linear\n",
    "\n",
    "➡️Diffrentiable\n",
    "\n",
    "➡️Zero centered\n",
    "\n",
    "➡️Disadvantages:-\n",
    "\n",
    "➡️Saturating Function\n",
    "\n",
    "➡️Computationally Expensive"
   ]
  },
  {
   "cell_type": "markdown",
   "id": "caaa2b7e",
   "metadata": {},
   "source": [
    "ELU (Exponential Linear Unit)\n",
    "➡️Formula elu(x):- max(alpha(e^x -1),x)\n",
    "\n",
    "➡️Advantage:-\n",
    "\n",
    "➡️Non Saturated\n",
    "\n",
    "➡️Easily Computationally\n",
    "\n",
    "➡️Close to zero centerd or convergence faster\n",
    "\n",
    "➡️flexiblity because of trainable paramter\n",
    "\n",
    "➡️No dying relu\n",
    "\n",
    "➡️Genralization is better\n",
    "\n",
    "➡️Always Continious as well as Diffrentiable\n",
    "\n",
    "➡️Disadvantages:- Computational expensive"
   ]
  },
  {
   "cell_type": "markdown",
   "id": "a18831e6",
   "metadata": {},
   "source": [
    "Leaky Relu\n",
    "➡️Formula:- max(0.0.1*z,z)\n",
    "\n",
    "➡️z>0 -> z else 0.01*z(its solve Diffrentiable problem because of output is not 0)\n",
    "\n",
    "➡️Advantage:-\n",
    "\n",
    "➡️Non Saturated\n",
    "\n",
    "➡️Easily Computationally\n",
    "\n",
    "➡️Close to zero centerd\n",
    "\n",
    "➡️No dying relu"
   ]
  },
  {
   "cell_type": "markdown",
   "id": "ad7246d1",
   "metadata": {},
   "source": [
    "Swish is an activation function, f ( x ) = x ⋅ sigmoid ( β x ) , where a learnable parameter."
   ]
  },
  {
   "cell_type": "markdown",
   "id": "7a7c91a0",
   "metadata": {},
   "source": [
    "#### 2. What happens when you increase or decrease the optimizer learning rate?"
   ]
  },
  {
   "cell_type": "markdown",
   "id": "e44b7791",
   "metadata": {},
   "source": [
    "A smaller learning rate may allow the model to learn a more optimal. If the learning rate is very large we will skip the optimal solution. "
   ]
  },
  {
   "cell_type": "markdown",
   "id": "30868cc3",
   "metadata": {},
   "source": [
    "#### 3. What happens when you increase the number of internal hidden neurons?"
   ]
  },
  {
   "cell_type": "markdown",
   "id": "2b6058cb",
   "metadata": {},
   "source": [
    "increase the time it takes to train the network"
   ]
  },
  {
   "cell_type": "markdown",
   "id": "746cb7cc",
   "metadata": {},
   "source": [
    "#### 4. What happens when you increase the size of batch computation?"
   ]
  },
  {
   "cell_type": "markdown",
   "id": "4377bd2b",
   "metadata": {},
   "source": [
    " reduces the learners' capacity to generalize'"
   ]
  },
  {
   "cell_type": "markdown",
   "id": "332cbd41",
   "metadata": {},
   "source": [
    "#### 5. Why we adopt regularization to avoid overfitting?"
   ]
  },
  {
   "cell_type": "markdown",
   "id": "32f333fa",
   "metadata": {},
   "source": [
    "Regularization assumes that least weights may produce simpler models"
   ]
  },
  {
   "cell_type": "markdown",
   "id": "4e479268",
   "metadata": {},
   "source": [
    "#### 6. What are loss and cost functions in deep learning?"
   ]
  },
  {
   "cell_type": "markdown",
   "id": "f6132ec3",
   "metadata": {},
   "source": [
    "loss function is for a line and cost function is for whole dataset"
   ]
  },
  {
   "cell_type": "markdown",
   "id": "f71bd58a",
   "metadata": {},
   "source": [
    "#### 7. What do ou mean by underfitting in neural networks?"
   ]
  },
  {
   "cell_type": "markdown",
   "id": "2348b680",
   "metadata": {},
   "source": [
    "Underfitting is a scenario in data science where a data model is unable to capture the relationship between the input and output variables accurately"
   ]
  },
  {
   "cell_type": "markdown",
   "id": "0d16db75",
   "metadata": {},
   "source": [
    "#### 8. Why we use Dropout in Neural Networks?"
   ]
  },
  {
   "cell_type": "markdown",
   "id": "8e4ef7a2",
   "metadata": {},
   "source": [
    "Reduce Overfitting"
   ]
  },
  {
   "cell_type": "code",
   "execution_count": null,
   "id": "882da5d9",
   "metadata": {},
   "outputs": [],
   "source": []
  }
 ],
 "metadata": {
  "kernelspec": {
   "display_name": "Python 3 (ipykernel)",
   "language": "python",
   "name": "python3"
  },
  "language_info": {
   "codemirror_mode": {
    "name": "ipython",
    "version": 3
   },
   "file_extension": ".py",
   "mimetype": "text/x-python",
   "name": "python",
   "nbconvert_exporter": "python",
   "pygments_lexer": "ipython3",
   "version": "3.9.13"
  }
 },
 "nbformat": 4,
 "nbformat_minor": 5
}
