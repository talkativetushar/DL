{
 "cells": [
  {
   "cell_type": "markdown",
   "id": "a9dbd959",
   "metadata": {},
   "source": [
    "# 1. What is the function of a summation junction of a neuron? What is threshold activation function?\n",
    "- In the summation, all features are multiplied by their weights and bias are summed up. (Y=W1X1+W2X2+b). This summed function is applied over an Activation function. \n",
    "- Threshold activation function (or simply the activation function, also known as squashing function) results in an output signal only when an input signal exceeding a specific threshold value comes as an input."
   ]
  },
  {
   "cell_type": "markdown",
   "id": "b6dfb745",
   "metadata": {},
   "source": [
    "# 2. What is a step function? What is the difference of step function with threshold function?\n",
    "Step Function is one of the simplest kind of activation functions. In this, we consider a threshold value and if the value of net input say y is greater than the threshold then the neuron is activated."
   ]
  },
  {
   "cell_type": "markdown",
   "id": "47c6402f",
   "metadata": {},
   "source": [
    "# 3. Explain the McCulloch–Pitts model of neuron.\n",
    "The McCulloch–Pitt neural network is considered to be the first neural network. The neurons are connected by directed weighted paths"
   ]
  },
  {
   "cell_type": "markdown",
   "id": "9bf99b28",
   "metadata": {},
   "source": [
    "# 4. Explain the ADALINE network model.\n",
    "MADALINE is a three-layer (input, hidden, output), fully connected, feed-forward artificial neural network architecture for classification that uses ADALINE units in its hidden and output layers."
   ]
  },
  {
   "cell_type": "markdown",
   "id": "494050f4",
   "metadata": {},
   "source": [
    "# 5. What is the constraint of a simple perceptron? Why it may fail with a real-world data set?\n",
    "- Simple perceptrone is summition of wi and xi with epchs or learning rate.\n",
    "- Problems is:- perceptrone is only work on linear data."
   ]
  },
  {
   "cell_type": "markdown",
   "id": "72209346",
   "metadata": {},
   "source": [
    "# 6. What is linearly inseparable problem? What is the role of the hidden layer?\n",
    "In which the line can't classified the two classes called linerly inseparable problem. \n",
    "- Hidden layers allow for the function of a neural network to be broken down into specific transformations of the data."
   ]
  },
  {
   "cell_type": "markdown",
   "id": "1b061324",
   "metadata": {},
   "source": [
    "# 7. Explain XOR problem in case of a simple perceptron\n",
    "because xor is a sparse like data  and the simple perceptrone is only work on linear data. If we work on xor data then they can't find a linear line."
   ]
  },
  {
   "cell_type": "markdown",
   "id": "fdb976b1",
   "metadata": {},
   "source": [
    "# 8. Design a multi-layer perceptron to implement A XOR B."
   ]
  },
  {
   "cell_type": "code",
   "execution_count": 5,
   "id": "d16a67c1",
   "metadata": {},
   "outputs": [
    {
     "name": "stderr",
     "output_type": "stream",
     "text": [
      "C:\\Users\\tusha\\anaconda3\\lib\\site-packages\\seaborn\\_decorators.py:36: FutureWarning: Pass the following variables as keyword args: x, y. From version 0.12, the only valid positional argument will be `data`, and passing other arguments without an explicit keyword will result in an error or misinterpretation.\n",
      "  warnings.warn(\n"
     ]
    },
    {
     "data": {
      "text/plain": [
       "Perceptron()"
      ]
     },
     "execution_count": 5,
     "metadata": {},
     "output_type": "execute_result"
    },
    {
     "data": {
      "image/png": "[encoded data removed]",
      "text/plain": [
       "<Figure size 432x288 with 1 Axes>"
      ]
     },
     "metadata": {
      "needs_background": "light"
     },
     "output_type": "display_data"
    }
   ],
   "source": [
    "\n",
    "import numpy as np\n",
    "import pandas as pd\n",
    "import matplotlib.pyplot as plt\n",
    "import seaborn as sns\n",
    "xor_data = pd.DataFrame()\n",
    "xor_data['input1']=[1,1,0,0]\n",
    "xor_data['input2']=[1,0,1,0]\n",
    "xor_data['ouput']=[0,1,1,0]\n",
    "sns.scatterplot(xor_data['input1'],xor_data['input2'],hue=xor_data['ouput'],s=200)\n",
    "from sklearn.linear_model import Perceptron\n",
    "clf1=Perceptron()\n",
    "clf1.fit(xor_data.iloc[:,0:2].values,xor_data.iloc[:,-1].values)"
   ]
  },
  {
   "cell_type": "markdown",
   "id": "5725b49f",
   "metadata": {},
   "source": [
    "# 9. Explain the single-layer feed forward architecture of ANN.\n",
    "In this type of network, we have only two layers input layer and the output layer but the input layer does not count because no computation is performed in this layer. The output layer is formed when different weights are applied to input nodes and the cumulative effect per node is taken. After this, the neurons collectively give the output layer to compute the output signals."
   ]
  },
  {
   "cell_type": "markdown",
   "id": "4a064589",
   "metadata": {},
   "source": [
    "# 10. Explain the competitive network architecture of ANN.\n",
    "A competitive network is typically a type of unsupervised machine learning, using the principle of competitive learning to provide results."
   ]
  },
  {
   "cell_type": "markdown",
   "id": "853636bc",
   "metadata": {},
   "source": [
    "# 11. Consider a multi-layer feed forward neural network. Enumerate and explain steps in the backpropagation algorithm used to train the network.\n",
    "- Step 1: Inputs X, arrive through the preconnected path.\n",
    "\n",
    "- Step 2: The input is modeled using true weights W. Weights are usually chosen randomly.\n",
    "\n",
    "- Step 3: Calculate the output of each neuron from the input layer to the hidden layer to the output layer.\n",
    "- Step 4: Calculate the error in the outputs\n",
    "- Step 5: From the output layer, go back to the hidden layer to adjust the weights to reduce the error.\n",
    "- Step 6: Repeat the process until the desired output is achieved."
   ]
  },
  {
   "cell_type": "markdown",
   "id": "48998b9b",
   "metadata": {},
   "source": [
    "# 12. What are the advantages and disadvantages of neural networks?\n",
    "advantage\n",
    "- efficiency\n",
    "- continous learning\n",
    "- data retreval\n",
    "- wide application\n",
    "\n",
    "disadvantage\n",
    "- hardware dependent\n",
    "- black box nature\n",
    "- complex algorithm\n",
    "- data dependency"
   ]
  },
  {
   "cell_type": "markdown",
   "id": "63bb5a2b",
   "metadata": {},
   "source": [
    "# 13. Write short notes on any two of the following:\n",
    "- biological neuron:-  individual cells, each composed of the main body of the cell along with many tendrils that extend from that body\n",
    "- Relu function:- The ReLU function is another non-linear activation function that has gained popularity in the deep learning domain. ReLU stands for Rectified Linear Unit.\n",
    "- Single-layer feed forward ANN:- The feedforward neural network was the first and simplest type of artificial neural network devised.\n",
    "- Gradient descent:- Optimisation technique to find weights\n",
    "- Recurrent network:- Recurrent Neural Network(RNN) are a type of Neural Network where the output from previous step are fed as input to the current step."
   ]
  }
 ],
 "metadata": {
  "kernelspec": {
   "display_name": "Python 3 (ipykernel)",
   "language": "python",
   "name": "python3"
  },
  "language_info": {
   "codemirror_mode": {
    "name": "ipython",
    "version": 3
   },
   "file_extension": ".py",
   "mimetype": "text/x-python",
   "name": "python",
   "nbconvert_exporter": "python",
   "pygments_lexer": "ipython3",
   "version": "3.9.12"
  }
 },
 "nbformat": 4,
 "nbformat_minor": 5
}
