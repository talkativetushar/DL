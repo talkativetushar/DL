{
 "cells": [
  {
   "cell_type": "markdown",
   "id": "dc6bd03c",
   "metadata": {},
   "source": [
    "# Assignment 02 Solutions"
   ]
  },
  {
   "cell_type": "markdown",
   "id": "4a248256",
   "metadata": {},
   "source": [
    "#### 1.\tDescribe the structure of an artificial neuron. How is it similar to a biological neuron? What are its main components?"
   ]
  },
  {
   "cell_type": "markdown",
   "id": "4dad05a9",
   "metadata": {},
   "source": [
    "The artificial neurons are connected by synapses and mimic the behavior of biological neurons: they receive a (weighted) input from the environment or from other neurons, and use a transfer or activation function to process the sum of the inputs and transfer it to other neurons or to generate results."
   ]
  },
  {
   "cell_type": "markdown",
   "id": "f5c5f184",
   "metadata": {},
   "source": [
    "#### 2.\tWhat are the different types of activation functions popularly used? Explain each of them."
   ]
  },
  {
   "cell_type": "markdown",
   "id": "e1637dc4",
   "metadata": {},
   "source": [
    "Binary Step Function.\n",
    "Linear Activation Function.\n",
    "Sigmoid/Logistic Activation Function.\n",
    "The derivative of the Sigmoid Activation Function.\n",
    "Tanh Function (Hyperbolic Tangent)\n",
    "Gradient of the Tanh Activation Function.\n",
    "ReLU Activation Function."
   ]
  },
  {
   "cell_type": "markdown",
   "id": "edf7aaa4",
   "metadata": {},
   "source": [
    "#### Explain the below statements ?\n",
    "1.\tExplain, in details, Rosenblatt’s perceptron model. How can a set of data be classified using a simple perceptron?\n",
    "2.\tUse a simple perceptron with weights w0, w1, and w2 as −1, 2, and 1, respectively, to classify data points (3, 4); (5, 2); (1, −3); (−8, −3); (−3, 0).\n"
   ]
  },
  {
   "cell_type": "markdown",
   "id": "6694a0f0",
   "metadata": {},
   "source": [
    "Rosenblatt perceptron is a binary single neuron model. The inputs integration is implemented through the addition of the weighted inputs that have fixed weights obtained during the training stage.\n",
    "\n"
   ]
  },
  {
   "cell_type": "markdown",
   "id": "3ff15d60",
   "metadata": {},
   "source": [
    "Weights is three but data points is 5 with 2 inputs without output. I can't catch the question?"
   ]
  },
  {
   "cell_type": "markdown",
   "id": "746cb7cc",
   "metadata": {},
   "source": [
    "#### 4.\tExplain the basic structure of a multi-layer perceptron. Explain how it can solve the XOR problem."
   ]
  },
  {
   "cell_type": "markdown",
   "id": "d538a8fd",
   "metadata": {},
   "source": [
    "he XOR problem with neural networks can be solved by using Multi-Layer Perceptrons or a neural network architecture with an input layer, hidden layer, and output layer. So during the forward propagation through the neural networks, the weights get updated to the corresponding layers and the XOR logic gets executed."
   ]
  },
  {
   "cell_type": "markdown",
   "id": "332cbd41",
   "metadata": {},
   "source": [
    "#### 5.\tWhat is artificial neural network (ANN)? Explain some of the salient highlights in the different architectural options for ANN."
   ]
  },
  {
   "cell_type": "markdown",
   "id": "53b3a780",
   "metadata": {},
   "source": [
    "An Artificial Neural Network (ANN) is an information processing paradigm that is inspired by the brain. ANNs, like people, learn by examples. An ANN is configured for a specific application, such as pattern recognition or data classification, through a learning process."
   ]
  },
  {
   "cell_type": "markdown",
   "id": "4e479268",
   "metadata": {},
   "source": [
    "#### 6.\tExplain the learning process of an ANN. Explain, with example, the challenge in assigning synaptic weights for the interconnection between neurons? How can this challenge be addressed?"
   ]
  },
  {
   "cell_type": "markdown",
   "id": "cad8e0a8",
   "metadata": {},
   "source": [
    "Learning, in artificial neural network, is the method of modifying the weights of connections between the neurons of a specified network. Learning in ANN can be classified into three categories namely supervised learning, unsupervised learning, and reinforcement learning.\n",
    "\n",
    "the model is being trained, the weights of the interconnections of the neurons will gradually be adjusted until good predictions are obtained. Once the loss has been calculated, this information is propagated backwards."
   ]
  },
  {
   "cell_type": "markdown",
   "id": "f71bd58a",
   "metadata": {},
   "source": [
    "#### 7.\tExplain, in details, the backpropagation algorithm. What are the limitations of this algorithm?"
   ]
  },
  {
   "cell_type": "markdown",
   "id": "9cd23612",
   "metadata": {},
   "source": [
    "Backpropagation, or backward propagation of errors, is an algorithm that is designed to test for errors working back from output nodes to input nodes. It is an important mathematical tool for improving the accuracy of predictions in data mining and machine learning.\n",
    "\n",
    "Limitations of the Backpropagation algorithm: It is slow, all previous layers are locked until gradients for the current layer is calculated."
   ]
  },
  {
   "cell_type": "markdown",
   "id": "0d16db75",
   "metadata": {},
   "source": [
    "#### 8.\tDescribe, in details, the process of adjusting the interconnection weights in a multi-layer neural network."
   ]
  },
  {
   "cell_type": "markdown",
   "id": "7b2c953a",
   "metadata": {},
   "source": [
    "the model is being trained, the weights of the interconnections of the neurons will gradually be adjusted until good predictions are obtained. Once the loss has been calculated, this information is propagated backwards."
   ]
  },
  {
   "cell_type": "markdown",
   "id": "979e3af2",
   "metadata": {},
   "source": [
    "#### 9.\tWhat are the steps in the backpropagation algorithm? Why a multi-layer neural network is required?"
   ]
  },
  {
   "cell_type": "markdown",
   "id": "6347789a",
   "metadata": {},
   "source": [
    "Step 1: Inputs X, arrive through the preconnected path.\n",
    "\n",
    "Step 2: The input is modeled using true weights W. Weights are usually chosen randomly.\n",
    "\n",
    "Step 3: Calculate the output of each neuron from the input layer to the hidden layer to the output layer.\n",
    "\n",
    "Step 4: Calculate the error in the outputs\n",
    "\n",
    "Backpropagation Error= Actual Output – Desired Output\n",
    "Step 5: From the output layer, go back to the hidden layer to adjust the weights to reduce the error.\n",
    "\n",
    "Step 6: Repeat the process until the desired output is achieved.\n",
    "\n",
    "A multilayer neural network with appropriate weights has been shown to be able to approximate any input-output function making it an attractive tool for modeling and forecasting."
   ]
  },
  {
   "cell_type": "markdown",
   "id": "bd77bd31",
   "metadata": {},
   "source": [
    "#### 10.\tWrite short notes on:\n",
    "1.\tArtificial neuron\n",
    "2.\tMulti-layer perceptron\n",
    "3.\tDeep learning\n",
    "4.\tLearning rate"
   ]
  },
  {
   "cell_type": "markdown",
   "id": "a996d6f1",
   "metadata": {},
   "source": [
    "Artificial neurons (also called Perceptrons, Units or Nodes) are the simplest elements or building blocks in a neural network.\n",
    "\n",
    "Multi layer perceptron (MLP) is a supplement of feed forward neural network.\n",
    "\n",
    "Deep learning is a subset of machine learning, which is essentially a neural network with three or more layers.\n",
    "\n",
    "In machine learning and statistics, the learning rate is a tuning parameter in an optimization algorithm that determines the step size at each iteration while moving toward a minimum of a loss function.\n"
   ]
  },
  {
   "cell_type": "markdown",
   "id": "2f89d0c9",
   "metadata": {},
   "source": [
    "#### 11.\tWrite the difference between:-\n",
    "1.\tActivation function vs threshold function\n",
    "2.\tStep function vs sigmoid function\n",
    "3.\tSingle layer vs multi-layer perceptron"
   ]
  },
  {
   "cell_type": "markdown",
   "id": "56f367a8",
   "metadata": {},
   "source": [
    "A threshold activation function (or simply the activation function, also known as squashing function)\n",
    "\n",
    "A sigmoid function produces similar results to step function in that the output is between 0 and 1.\n",
    "\n",
    "A Multi Layer Perceptron (MLP) contains one or more hidden layers (apart from one input and one output layer). While a single layer perceptron can only learn linear functions, a multi layer perceptron can also learn non - linear functions."
   ]
  },
  {
   "cell_type": "code",
   "execution_count": null,
   "id": "9c457453",
   "metadata": {},
   "outputs": [],
   "source": []
  }
 ],
 "metadata": {
  "kernelspec": {
   "display_name": "Python 3 (ipykernel)",
   "language": "python",
   "name": "python3"
  },
  "language_info": {
   "codemirror_mode": {
    "name": "ipython",
    "version": 3
   },
   "file_extension": ".py",
   "mimetype": "text/x-python",
   "name": "python",
   "nbconvert_exporter": "python",
   "pygments_lexer": "ipython3",
   "version": "3.9.13"
  }
 },
 "nbformat": 4,
 "nbformat_minor": 5
}
